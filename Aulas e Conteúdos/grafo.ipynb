{
 "cells": [
  {
   "attachments": {},
   "cell_type": "markdown",
   "metadata": {},
   "source": [
    "# Grafos\n",
    "\n",
    "Exemplos para testes:\n",
    "\n",
    "Grafo 1: Não direcionado;\n",
    "\n",
    "8 vértices;\n",
    "6 arestas;\n",
    "\n",
    "1 2\n",
    "1 3\n",
    "2 3\n",
    "2 4\n",
    "4 5\n",
    "6 7\n",
    "\n",
    "Grafo 2: Direcionado;\n",
    "\n",
    "8 vértices;\n",
    "7 arestas;\n",
    "\n",
    "1 2\n",
    "1 3\n",
    "3 2\n",
    "2 4\n",
    "4 5\n",
    "6 7\n",
    "7 6\n",
    "\n",
    "0 1\n",
    "0 2\n",
    "2 1\n",
    "1 3\n",
    "3 4\n",
    "5 6\n",
    "6 5\n",
    "\n",
    "\n"
   ]
  }
 ],
 "metadata": {
  "language_info": {
   "name": "python"
  },
  "orig_nbformat": 4
 },
 "nbformat": 4,
 "nbformat_minor": 2
}
